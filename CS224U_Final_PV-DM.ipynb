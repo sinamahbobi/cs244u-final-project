{
 "cells": [
  {
   "cell_type": "markdown",
   "id": "afa84255",
   "metadata": {},
   "source": [
    "### Requirements\n",
    "\n",
    "For text processing\n",
    "- pip install gensim\n",
    "- pip install pyldavis\n",
    "\n",
    "For data cleaning - removing any language other than English\n",
    "- pip install pycld2\n",
    "\n",
    "To test for encoding in dataset\n",
    "- pip install chardet\n",
    "\n",
    "For PV-DM\n",
    "- run python in command line and run the lines below:\n",
    "- import nltk\n",
    "- nltk.download('punkt')"
   ]
  },
  {
   "cell_type": "code",
   "execution_count": 1,
   "id": "97d918c6",
   "metadata": {},
   "outputs": [],
   "source": [
    "# import required packages/libraries\n",
    "import pandas as pd"
   ]
  },
  {
   "cell_type": "markdown",
   "id": "b364c42b",
   "metadata": {},
   "source": [
    "### Data Review"
   ]
  },
  {
   "cell_type": "code",
   "execution_count": 2,
   "id": "5895e5e6",
   "metadata": {},
   "outputs": [
    {
     "data": {
      "text/plain": [
       "{'encoding': 'utf-8', 'confidence': 0.99, 'language': ''}"
      ]
     },
     "execution_count": 2,
     "metadata": {},
     "output_type": "execute_result"
    }
   ],
   "source": [
    "# check encoding type of data\n",
    "import chardet\n",
    "file = 'final_lyrics.csv'\n",
    "with open(file, 'rb') as rawdata:\n",
    "    result = chardet.detect(rawdata.read(100000))\n",
    "result"
   ]
  },
  {
   "cell_type": "code",
   "execution_count": 3,
   "id": "b8e4074f",
   "metadata": {},
   "outputs": [],
   "source": [
    "# open/read data\n",
    "lyrics_data = pd.read_csv('final_lyrics.csv', encoding='utf-8')\n",
    "# drop first col\n",
    "lyrics_df = lyrics_data.iloc[: , 1:]"
   ]
  },
  {
   "cell_type": "code",
   "execution_count": 4,
   "id": "eb5f9541",
   "metadata": {},
   "outputs": [
    {
     "name": "stdout",
     "output_type": "stream",
     "text": [
      "  Genre    Artist                  Title  \\\n",
      "0   Pop  dua lipa              new rules   \n",
      "1   Pop  dua lipa        don’t start now   \n",
      "2   Pop  dua lipa                  idgaf   \n",
      "3   Pop  dua lipa  blow your mind (mwah)   \n",
      "4   Pop  dua lipa             be the one   \n",
      "\n",
      "                                              Lyrics  \n",
      "0  one one one one one   talkin' in my sleep at n...  \n",
      "1  if you don't wanna see me   did a full 80 craz...  \n",
      "2  you call me all friendly tellin' me how much y...  \n",
      "3  i know it's hot i know we've got something tha...  \n",
      "4  i see the moon i see the moon i see the moon o...  \n"
     ]
    }
   ],
   "source": [
    "print(lyrics_df.head())"
   ]
  },
  {
   "cell_type": "code",
   "execution_count": 5,
   "id": "91bb79ba",
   "metadata": {},
   "outputs": [
    {
     "name": "stdout",
     "output_type": "stream",
     "text": [
      "243406\n"
     ]
    }
   ],
   "source": [
    "print(len(lyrics_df))"
   ]
  },
  {
   "cell_type": "code",
   "execution_count": 6,
   "id": "403855b9",
   "metadata": {},
   "outputs": [
    {
     "data": {
      "text/plain": [
       "\"common love isn't for us we created something phenomenal don't you agree don't you agree you got me feeling\\u2005diamond\\u2005rich nothing on this\\u2005planet compares to it don't you agree don't\\u2005you agree  pre who needs to go to sleep when i got you next to me   all night i'll riot with you i know you got my back and you know i got you so come on come on come on come on come on come on let's get physical lights out follow the noise baby keep on dancing like you ain't got a choice so come on come on come on come on come on let's get physical   adrenaline keeps on rushing in love the simulation we're dreaming in don't you agree don't you agree i don't wanna live another life 'cause this one's pretty nice living it up  pre who needs to go to sleep when i got you next to me   all night i'll riot with you i know you got my back and you know i got you so come on come on come on come on come on come on let's get physical lights out follow the noise baby keep on dancing like you ain't got a choice so come on come on come on come on come on let's get physical   hold on just a little tighter come on hold on tell me if you're ready come on come on come on baby keep on dancing let's get physical hold on just a little tighter come on hold on tell me if you're ready come on come on come on baby keep on dancing let's get physical   all night i'll riot with you i know you got my back and you know i got you so come on come on come on let's get physical lights out follow the noise baby keep on dancing like you ain't got a choice so come on come on come on come on come on let's get physical physical physical   let's get physical physical physical physical physical physical let's get physical physical physical come on phyphyphyphysical\""
      ]
     },
     "execution_count": 6,
     "metadata": {},
     "output_type": "execute_result"
    }
   ],
   "source": [
    "# lyric check\n",
    "lyrics_df['Lyrics'][8]"
   ]
  },
  {
   "cell_type": "markdown",
   "id": "ede26b68",
   "metadata": {},
   "source": [
    "### Data Cleaning"
   ]
  },
  {
   "cell_type": "code",
   "execution_count": 7,
   "id": "1194e2b7",
   "metadata": {},
   "outputs": [],
   "source": [
    "import pycld2 as cld2"
   ]
  },
  {
   "cell_type": "code",
   "execution_count": 8,
   "id": "352b25e3",
   "metadata": {},
   "outputs": [],
   "source": [
    "lyrics_df['Lyrics'] =  [str(lyrics.encode('ascii', 'replace')).replace('b\"','').replace('?',' ').replace('\"','').replace('\\\\n', ' ').replace(\"b'\",'').replace('instrumental','').replace('[\\[],:*!?]','').replace('(','').replace(')','').replace('.','').replace(',','').replace('\\\\','').replace('verse','').replace('!','').replace('chorus','').replace('*','').replace('\\n',' ')\n",
    "               for lyrics in lyrics_df['Lyrics'].str.decode('unicode_escape')]"
   ]
  },
  {
   "cell_type": "code",
   "execution_count": 9,
   "id": "e4538d8c",
   "metadata": {},
   "outputs": [
    {
     "data": {
      "text/plain": [
       "\"common love isn't for us we created something phenomenal don't you agree don't you agree you got me feeling   diamond   rich nothing on this   planet compares to it don't you agree don't   you agree  pre who needs to go to sleep when i got you next to me   all night i'll riot with you i know you got my back and you know i got you so come on come on come on come on come on come on let's get physical lights out follow the noise baby keep on dancing like you ain't got a choice so come on come on come on come on come on let's get physical   adrenaline keeps on rushing in love the simulation we're dreaming in don't you agree don't you agree i don't wanna live another life 'cause this one's pretty nice living it up  pre who needs to go to sleep when i got you next to me   all night i'll riot with you i know you got my back and you know i got you so come on come on come on come on come on come on let's get physical lights out follow the noise baby keep on dancing like you ain't got a choice so come on come on come on come on come on let's get physical   hold on just a little tighter come on hold on tell me if you're ready come on come on come on baby keep on dancing let's get physical hold on just a little tighter come on hold on tell me if you're ready come on come on come on baby keep on dancing let's get physical   all night i'll riot with you i know you got my back and you know i got you so come on come on come on let's get physical lights out follow the noise baby keep on dancing like you ain't got a choice so come on come on come on come on come on let's get physical physical physical   let's get physical physical physical physical physical physical let's get physical physical physical come on phyphyphyphysical\""
      ]
     },
     "execution_count": 9,
     "metadata": {},
     "output_type": "execute_result"
    }
   ],
   "source": [
    "# lyric check\n",
    "lyrics_df['Lyrics'][8]"
   ]
  },
  {
   "cell_type": "code",
   "execution_count": 10,
   "id": "4e474267",
   "metadata": {},
   "outputs": [
    {
     "data": {
      "text/plain": [
       "\"hwasa                                                                 don't you agree don't you agree                                                    just   wasting time don't you   agree don't you agree bae  pre hwasa who needs to   go to sleep when i got you next to me   hwasa dua lipa                                                                       so   come on come   on come on come on come on come on let's get physical                                                                       so come on come on come on come on come on let's get physical   dua lipa adrenaline keeps on rushing in love the simulation we're dreaming in don't you agree don't you agree i don't wanna live another life 'cause this one's pretty nice living it up  pre dua lipa who needs to go to sleep when i got you next to me   dua lipa all night i'll riot with you i know you got my back and you know i got you so come on come on come on come on come on come on let's get physical lights out follow the noise baby keep on dancing like you ain't got a choice so come on come on come on come on come on let's get physical   dua lipa hwasa both hold on                      come on hold on                      come on come on come on baby keep on dancing let's get physical hold on just a little tighter come on hold on tell me if you're ready come on come on come on baby keep on dancing let's get physical   dua lipa all night i'll riot with you i know you got my back and you know i got you so come on come on come on let's get physical lights out follow the noise baby keep on dancing like you ain't got a choice so come on come on come on come on come on let's get physical physical physical   dua lipa both let's get physical physical physical physical physical physical let's get physical physical physical come on phyphyphyphysical\""
      ]
     },
     "execution_count": 10,
     "metadata": {},
     "output_type": "execute_result"
    }
   ],
   "source": [
    "# lyric check\n",
    "lyrics_df['Lyrics'][42]"
   ]
  },
  {
   "cell_type": "code",
   "execution_count": 11,
   "id": "552c26dc",
   "metadata": {},
   "outputs": [
    {
     "data": {
      "text/plain": [
       "\"dababy billboard baby dua lipa make 'em dance when it come on everybody lookin' for a dancefloor to run on   dua lipa if you wanna run away with me i know a galaxy and i can take you for a ride i had a premonition that we fell into a rhythm where the music don't stop for life glitter in the sky glitter in my eyes shining just the way i like if you're feeling like you need a little bit of company you met me at the perfect time  pre dua lipa you want me i want you baby my sugarboo i'm levitating the milky way we're renegading yeah yeah y  ah yeah yeah   dua lipa i got you moonlight you're my starlight i need you all night com   on dance with me i'm levitating you moonlight you're my starlight you're the moonlight i need you all night come on dance with me i'm levitating   dababy i'm one of the greatest ain't no debatin' on it let's go i'm still levitated i'm heavily medicated ironic i gave 'em love and they end up hatin' on me go she told me she love me and she been waitin' been fightin' hard for your love and i'm runnin' thin on my patience needed someone to hug even took it back to the basics you see what you got me out here doin' yeah mighta threw me off but can't nobody stop the movement uhuh let's go left foot right foot levitatin' c'mon pop stars go dua lipa with dababy i had to lace my shoes for all the blessings i was chasin' go if i ever slip i'll fall into a better situation so catch up go put some cheese on it get out and get your bread up yeah yeah they always leave when you fall but you run together hey weight of the world on my shoulders i kept my head up now baby stand up 'cause girl you  pre dua lipa  dababy you want me hey i want you baby hey my sugarboo i'm levitating the milky way we're renegading yeah yeah yeah yeah yeah   dua lipa i got you moonlight you're my starlight i need you all night come on dance with me i'm levitating you moonlight you're my starlight you're the moonlight i need you all night come on dance with me i'm levitating  post dua lipa you can fly away with me tonight you can fly away with me tonight baby let me take you for a ride yeah yeah yeah yeah yeah i'm levitating woo you can fly away with me tonight you can fly away with me tonight baby let me take you for a ride yeah yeah yeah yeah yeah woo   dua lipa my love is like a rocket watch it blast off and i'm feeling so electric dance my ass off and even if i wanted to i can't stop yeah yeah yeah yeah yeah my love is like a rocket watch it blast off and i'm feeling so electric dance my ass off and even if i wanted to i can't stop yeah yeah yeah yeah yeah  pre dua lipa you want me i want you baby my sugarboo i'm levitating the milky way we're renegading   dua lipa  dababy i got you yeah moonlight you're my starlight i need you all night all night come on dance with me let's go i'm levitating woo  post dua lipa you can fly away with me tonight tonight you can fly away with me tonight baby let me take you for a ride yeah yeah yeah yeah yeah take you for a ride i'm levitating woo you can fly away with me tonight tonight you can fly away with me tonight baby let me take you for a ride yeah yeah yeah yeah yeah let me take you for a ride   dua lipa i got you moonlight you're my starlight i need you all night come on dance with me i'm levitating\""
      ]
     },
     "execution_count": 11,
     "metadata": {},
     "output_type": "execute_result"
    }
   ],
   "source": [
    "# lyric check\n",
    "lyrics_df['Lyrics'][23]"
   ]
  },
  {
   "cell_type": "markdown",
   "id": "c4d9a719",
   "metadata": {},
   "source": [
    "Filter for only English Lyrics"
   ]
  },
  {
   "cell_type": "code",
   "execution_count": 12,
   "id": "d18aaebf",
   "metadata": {},
   "outputs": [
    {
     "data": {
      "text/plain": [
       "211874"
      ]
     },
     "execution_count": 12,
     "metadata": {},
     "output_type": "execute_result"
    }
   ],
   "source": [
    "en_lyrics = []\n",
    "for i in range(len(lyrics_df)):\n",
    "    _, _, _, detected_language = cld2.detect(lyrics_df['Lyrics'][i],  returnVectors=True)\n",
    "    if len(detected_language) == 1:\n",
    "        if detected_language[0][2] == 'ENGLISH':\n",
    "#             lyrics_df.drop(i, inplace = True)\n",
    "            en_lyrics.append(i)\n",
    "\n",
    "lyrics_df = lyrics_df.iloc[en_lyrics,:] \n",
    "        \n",
    "len(lyrics_df)\n",
    "# data cut from 243406 to 211873"
   ]
  },
  {
   "cell_type": "code",
   "execution_count": 13,
   "id": "35d54b96",
   "metadata": {},
   "outputs": [
    {
     "data": {
      "text/html": [
       "<div>\n",
       "<style scoped>\n",
       "    .dataframe tbody tr th:only-of-type {\n",
       "        vertical-align: middle;\n",
       "    }\n",
       "\n",
       "    .dataframe tbody tr th {\n",
       "        vertical-align: top;\n",
       "    }\n",
       "\n",
       "    .dataframe thead th {\n",
       "        text-align: right;\n",
       "    }\n",
       "</style>\n",
       "<table border=\"1\" class=\"dataframe\">\n",
       "  <thead>\n",
       "    <tr style=\"text-align: right;\">\n",
       "      <th></th>\n",
       "      <th>index</th>\n",
       "      <th>Genre</th>\n",
       "      <th>Artist</th>\n",
       "      <th>Title</th>\n",
       "      <th>Lyrics</th>\n",
       "    </tr>\n",
       "  </thead>\n",
       "  <tbody>\n",
       "    <tr>\n",
       "      <th>0</th>\n",
       "      <td>0</td>\n",
       "      <td>Pop</td>\n",
       "      <td>dua lipa</td>\n",
       "      <td>new rules</td>\n",
       "      <td>one one one one one   talkin' in my sleep at n...</td>\n",
       "    </tr>\n",
       "    <tr>\n",
       "      <th>1</th>\n",
       "      <td>1</td>\n",
       "      <td>Pop</td>\n",
       "      <td>dua lipa</td>\n",
       "      <td>don’t start now</td>\n",
       "      <td>if you don't wanna see me   did a full 80 craz...</td>\n",
       "    </tr>\n",
       "    <tr>\n",
       "      <th>2</th>\n",
       "      <td>2</td>\n",
       "      <td>Pop</td>\n",
       "      <td>dua lipa</td>\n",
       "      <td>idgaf</td>\n",
       "      <td>you call me all friendly tellin' me how much y...</td>\n",
       "    </tr>\n",
       "    <tr>\n",
       "      <th>3</th>\n",
       "      <td>3</td>\n",
       "      <td>Pop</td>\n",
       "      <td>dua lipa</td>\n",
       "      <td>blow your mind (mwah)</td>\n",
       "      <td>i know it's hot i know we've got something tha...</td>\n",
       "    </tr>\n",
       "    <tr>\n",
       "      <th>4</th>\n",
       "      <td>4</td>\n",
       "      <td>Pop</td>\n",
       "      <td>dua lipa</td>\n",
       "      <td>be the one</td>\n",
       "      <td>i see the moon i see the moon i see the moon o...</td>\n",
       "    </tr>\n",
       "    <tr>\n",
       "      <th>...</th>\n",
       "      <td>...</td>\n",
       "      <td>...</td>\n",
       "      <td>...</td>\n",
       "      <td>...</td>\n",
       "      <td>...</td>\n",
       "    </tr>\n",
       "    <tr>\n",
       "      <th>211869</th>\n",
       "      <td>243401</td>\n",
       "      <td>Country</td>\n",
       "      <td>edens edge</td>\n",
       "      <td>who am i drinking tonight</td>\n",
       "      <td>I gotta say Boy after only just a couple of da...</td>\n",
       "    </tr>\n",
       "    <tr>\n",
       "      <th>211870</th>\n",
       "      <td>243402</td>\n",
       "      <td>Country</td>\n",
       "      <td>edens edge</td>\n",
       "      <td>liar</td>\n",
       "      <td>I helped you find her diamond ring You made me...</td>\n",
       "    </tr>\n",
       "    <tr>\n",
       "      <th>211871</th>\n",
       "      <td>243403</td>\n",
       "      <td>Country</td>\n",
       "      <td>edens edge</td>\n",
       "      <td>last supper</td>\n",
       "      <td>Look at the couple in the corner booth Looks a...</td>\n",
       "    </tr>\n",
       "    <tr>\n",
       "      <th>211872</th>\n",
       "      <td>243404</td>\n",
       "      <td>Country</td>\n",
       "      <td>edens edge</td>\n",
       "      <td>christ alone live in studio</td>\n",
       "      <td>When I fly off this mortal earth And I'm measu...</td>\n",
       "    </tr>\n",
       "    <tr>\n",
       "      <th>211873</th>\n",
       "      <td>243405</td>\n",
       "      <td>Country</td>\n",
       "      <td>edens edge</td>\n",
       "      <td>amen</td>\n",
       "      <td>I heard from a friend of a friend of a friend ...</td>\n",
       "    </tr>\n",
       "  </tbody>\n",
       "</table>\n",
       "<p>211874 rows × 5 columns</p>\n",
       "</div>"
      ],
      "text/plain": [
       "         index    Genre      Artist                        Title  \\\n",
       "0            0      Pop    dua lipa                    new rules   \n",
       "1            1      Pop    dua lipa              don’t start now   \n",
       "2            2      Pop    dua lipa                        idgaf   \n",
       "3            3      Pop    dua lipa        blow your mind (mwah)   \n",
       "4            4      Pop    dua lipa                   be the one   \n",
       "...        ...      ...         ...                          ...   \n",
       "211869  243401  Country  edens edge    who am i drinking tonight   \n",
       "211870  243402  Country  edens edge                         liar   \n",
       "211871  243403  Country  edens edge                  last supper   \n",
       "211872  243404  Country  edens edge  christ alone live in studio   \n",
       "211873  243405  Country  edens edge                         amen   \n",
       "\n",
       "                                                   Lyrics  \n",
       "0       one one one one one   talkin' in my sleep at n...  \n",
       "1       if you don't wanna see me   did a full 80 craz...  \n",
       "2       you call me all friendly tellin' me how much y...  \n",
       "3       i know it's hot i know we've got something tha...  \n",
       "4       i see the moon i see the moon i see the moon o...  \n",
       "...                                                   ...  \n",
       "211869  I gotta say Boy after only just a couple of da...  \n",
       "211870  I helped you find her diamond ring You made me...  \n",
       "211871  Look at the couple in the corner booth Looks a...  \n",
       "211872  When I fly off this mortal earth And I'm measu...  \n",
       "211873  I heard from a friend of a friend of a friend ...  \n",
       "\n",
       "[211874 rows x 5 columns]"
      ]
     },
     "execution_count": 13,
     "metadata": {},
     "output_type": "execute_result"
    }
   ],
   "source": [
    "# reset df index\n",
    "lyrics_df.reset_index(inplace=True)\n",
    "lyrics_df"
   ]
  },
  {
   "cell_type": "markdown",
   "id": "a54f2770",
   "metadata": {},
   "source": [
    "## Part 2.1 PV-DM\n",
    "\n",
    "NO PREPROCESSING NEEDED BECAUSE WANT TO KEEP WORDS TOGETHER\n",
    "\n",
    "CANT USE LDA HERE EITHER, AS IT USES BAG-OF-WORDS VECTORIZING (LIKE TF-IDF) FOR TOPIC MODELLING"
   ]
  },
  {
   "cell_type": "code",
   "execution_count": 14,
   "id": "70a3b50f",
   "metadata": {},
   "outputs": [],
   "source": [
    "from gensim.models.doc2vec import Doc2Vec, TaggedDocument\n",
    "from nltk.tokenize import word_tokenize"
   ]
  },
  {
   "cell_type": "code",
   "execution_count": 54,
   "id": "6913c4dd",
   "metadata": {},
   "outputs": [
    {
     "name": "stdout",
     "output_type": "stream",
     "text": [
      "CPU times: user 22min 37s, sys: 4min 41s, total: 27min 18s\n",
      "Wall time: 21min 48s\n"
     ]
    }
   ],
   "source": [
    "%%time\n",
    "\n",
    "#create corpus\n",
    "#Use cleaned complete lyrics instead of pre-processed text\n",
    "corpus = [TaggedDocument(words=word_tokenize(_d.lower()), tags=[str(i)]) for i, _d in enumerate(lyrics_df['Lyrics'])]\n",
    "#build model\n",
    "#100 epochs is impractically long\n",
    "# high vac_size value increases performace but also takes longer/memory\n",
    "# max_epochs = 100\n",
    "vec_size = 100\n",
    "alpha = 0.025\n",
    "# dm=1 is for PV-DM\n",
    "model = Doc2Vec(vector_size=vec_size,\n",
    "                alpha=alpha, \n",
    "                min_alpha=0.0025,\n",
    "                min_count=1,\n",
    "                dm =1,\n",
    "                epochs=10)\n",
    "\n",
    "model.build_vocab(corpus)\n",
    "\n",
    "# train model\n",
    "model.train(corpus,\n",
    "            total_examples=model.corpus_count,\n",
    "            epochs=model.epochs)\n",
    "\n",
    "# # Train model with Hyper-paramenter tuning --> takes long as well\n",
    "# for epoch in range(max_epochs):\n",
    "#     print('iteration {0}'.format(epoch))\n",
    "#     model.train(corpus,\n",
    "#                 total_examples=model.corpus_count,\n",
    "#                 epochs=model.epochs)\n",
    "#     # decrease the learning rate\n",
    "#     model.alpha -= 0.0002\n",
    "#     # fix the learning rate, no decay\n",
    "#     model.min_alpha = model.alpha\n",
    "    \n",
    "#save model\n",
    "model.save(\"pvdm_model\")"
   ]
  },
  {
   "cell_type": "code",
   "execution_count": 55,
   "id": "7f577991",
   "metadata": {},
   "outputs": [],
   "source": [
    "model= Doc2Vec.load(\"pvdm_model\")"
   ]
  },
  {
   "cell_type": "markdown",
   "id": "645cc855",
   "metadata": {},
   "source": [
    "## Part 2.2: Similarity Calculation - Cosine Distance "
   ]
  },
  {
   "cell_type": "code",
   "execution_count": 56,
   "id": "4f627ec2",
   "metadata": {},
   "outputs": [],
   "source": [
    "# open text file of lyric\n",
    "input_file = 'input_lyrics1.txt'\n",
    "with open(input_file, 'r') as f:\n",
    "    input_lyrics = f.read()\n",
    "    # clean input lyrics\n",
    "    input_lyrics = input_lyrics.replace('b\"','').replace('?',' ').replace('\"','').replace('\\\\n', ' ').replace(\"b'\",'').replace('instrumental','').replace('[\\[],:*!?]','').replace('(','').replace(')','').replace('.','').replace(',','').replace('\\\\','').replace('verse','').replace('!','').replace('chorus','').replace('*','').replace('\\n',' ')"
   ]
  },
  {
   "cell_type": "code",
   "execution_count": 57,
   "id": "8595f7cf",
   "metadata": {},
   "outputs": [
    {
     "data": {
      "text/plain": [
       "\"You must think that I'm stupid You must think that I'm a fool You must think that I'm new to this But I have seen this all before I'm never gonna let you close to me Even though you mean the most to me 'Cause every time I open up it hurts So I'm never gonna get too close to you Even when I mean the most to you In case you go and leave me in the dirt But every time you hurt me the less that I cry And every time you leave me the quicker these tears dry And every time you walk out the less I love you Baby we don't stand a chance it's sad but it's true I'm way too good at goodbyes I'm way too good at goodbyes I'm way too good at goodbyes I'm way too good at goodbyes I know you're thinkin' I'm heartless I know you're thinkin' I'm cold I'm just protectin' my innocence I'm just protectin' my soul I'm never gonna let you close to me Even though you mean the most to me 'Cause every time I open up it hurts So I'm never gonna get too close to you Even when I mean the most to you In case you go and leave me in the dirt But every time you hurt me the less that I cry And every time you leave me the quicker these tears dry And every time you walk out the less I love you Baby we don't stand a chance it's sad but it's true I'm way too good at goodbyes I'm way too good at goodbyes I'm way too good at goodbyes I'm way too good at goodbyes No way that you'll see me cry No way that you'll see me cry I'm way too good at goodbyes I'm way too good at goodbyes No No no no no no I'm way too good at goodbyes No no no no No no no I'm way too good at goodbyes No way that you'll see me cry Ah-ah-ah I'm way too good at goodbyes 'Cause every time you hurt me the less that I cry And every time you leave me the quicker these tears dry And every time you walk out the less I love you Baby we don't stand a chance it's sad but it's true I'm way too good at goodbyes\""
      ]
     },
     "execution_count": 57,
     "metadata": {},
     "output_type": "execute_result"
    }
   ],
   "source": [
    "input_lyrics"
   ]
  },
  {
   "cell_type": "code",
   "execution_count": 58,
   "id": "a572aa2b",
   "metadata": {},
   "outputs": [],
   "source": [
    "#tokenization - get doc vector\n",
    "input_data = word_tokenize(input_lyrics.lower())\n",
    "lyric_vector = model.infer_vector(input_data)"
   ]
  },
  {
   "cell_type": "code",
   "execution_count": 59,
   "id": "89a9fb7a",
   "metadata": {},
   "outputs": [
    {
     "name": "stderr",
     "output_type": "stream",
     "text": [
      "/var/folders/m2/zdnrtmcn7zj8rt5nqln_zkmw0000gn/T/ipykernel_19987/2185013799.py:2: DeprecationWarning: Call to deprecated `docvecs` (The `docvecs` property has been renamed `dv`.).\n",
      "  similar_doc = model.docvecs.most_similar(lyric_vector)\n"
     ]
    },
    {
     "name": "stdout",
     "output_type": "stream",
     "text": [
      "[('41817', 0.5265682339668274), ('42029', 0.5142006874084473), ('41959', 0.5125315189361572), ('54287', 0.4998117685317993), ('177618', 0.4707123637199402), ('58975', 0.4634052515029907), ('116079', 0.4576190114021301), ('4252', 0.45436087250709534), ('111321', 0.45301464200019836), ('115787', 0.45294860005378723)]\n"
     ]
    }
   ],
   "source": [
    "# to find index of most similar song\n",
    "similar_doc = model.docvecs.most_similar(lyric_vector)\n",
    "print(similar_doc)"
   ]
  },
  {
   "cell_type": "code",
   "execution_count": 60,
   "id": "67f594e0",
   "metadata": {},
   "outputs": [
    {
     "name": "stdout",
     "output_type": "stream",
     "text": [
      "I don't want my heart to be broken 'Cause it's the only one I've got So darling please be careful You know I care a lot Darling please don't break my heart I beg of you I don't want no tears a-falling You know I hate to cry But that's what's bound to happen If you only say goodbye Darling please don't say goodbye I beg of you Hold my hand and promise That you'll always love me true Make me know you'll love me The same way I love you little girl You got me at your mercy Now that I'm in love with you So please don't take advantage 'Cause you know my love is true Darling please please love me too I beg of you Hold my hand and promise That you'll always love me true Make me know you'll love me The same way I love you little girl You got me at your mercy Now that I'm in love with you So please don't take advantage 'Cause you know my love is true Darling please please love me too I beg of you\n"
     ]
    }
   ],
   "source": [
    "# to find vector of doc in training data using tags or in other words, printing the vector of document at index 1 in training data\n",
    "print(lyrics_df['Lyrics'][int(similar_doc[0][0])])"
   ]
  },
  {
   "cell_type": "code",
   "execution_count": 61,
   "id": "47f5ed0e",
   "metadata": {},
   "outputs": [
    {
     "data": {
      "text/plain": [
       "41817"
      ]
     },
     "execution_count": 61,
     "metadata": {},
     "output_type": "execute_result"
    }
   ],
   "source": [
    "song_index = int(similar_doc[0][0])\n",
    "song_index"
   ]
  },
  {
   "cell_type": "code",
   "execution_count": 62,
   "id": "ad3cf46c",
   "metadata": {},
   "outputs": [
    {
     "data": {
      "text/plain": [
       "{'Artist': 'elvis presley',\n",
       " 'Title': 'i beg of you',\n",
       " 'Genre': 'Rock',\n",
       " 'Lyrics': \"I don't want my heart to be broken 'Cause it's the only one I've got So darling please be careful You know I care a lot Darling please don't break my heart I beg of you I don't want no tears a-falling You know I hate to cry But that's what's bound to happen If you only say goodbye Darling please don't say goodbye I beg of you Hold my hand and promise That you'll always love me true Make me know you'll love me The same way I love you little girl You got me at your mercy Now that I'm in love with you So please don't take advantage 'Cause you know my love is true Darling please please love me too I beg of you Hold my hand and promise That you'll always love me true Make me know you'll love me The same way I love you little girl You got me at your mercy Now that I'm in love with you So please don't take advantage 'Cause you know my love is true Darling please please love me too I beg of you\"}"
      ]
     },
     "execution_count": 62,
     "metadata": {},
     "output_type": "execute_result"
    }
   ],
   "source": [
    "# OUTPUT reccommended song\n",
    "rec_song = {'Artist': lyrics_df['Artist'][song_index],\n",
    "                'Title': lyrics_df['Title'][song_index],\n",
    "                'Genre': lyrics_df['Genre'][song_index],\n",
    "                'Lyrics': lyrics_df['Lyrics'][song_index]}\n",
    "\n",
    "rec_song\n",
    "# output_filename = 'output2.json'\n",
    "# with open(output_filename, 'w') as fout:\n",
    "#     json.dump(rec_song, fout)"
   ]
  },
  {
   "cell_type": "code",
   "execution_count": null,
   "id": "68e97425",
   "metadata": {},
   "outputs": [],
   "source": []
  },
  {
   "cell_type": "code",
   "execution_count": null,
   "id": "ed36310c",
   "metadata": {},
   "outputs": [],
   "source": []
  }
 ],
 "metadata": {
  "kernelspec": {
   "display_name": "Python 3 (ipykernel)",
   "language": "python",
   "name": "python3"
  },
  "language_info": {
   "codemirror_mode": {
    "name": "ipython",
    "version": 3
   },
   "file_extension": ".py",
   "mimetype": "text/x-python",
   "name": "python",
   "nbconvert_exporter": "python",
   "pygments_lexer": "ipython3",
   "version": "3.9.7"
  }
 },
 "nbformat": 4,
 "nbformat_minor": 5
}
